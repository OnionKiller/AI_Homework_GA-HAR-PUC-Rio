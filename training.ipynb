{
 "cells": [
  {
   "cell_type": "code",
   "execution_count": 53,
   "metadata": {},
   "outputs": [],
   "source": [
    "import pandas as pd\n",
    "import numpy as np\n",
    "\n",
    "\n",
    "from geneticalgorithm2 import geneticalgorithm2 as ga # for creating and running optimization model\n",
    "from geneticalgorithm2 import Generation, AlgorithmParams # classes for comfortable parameters setting and getting\n",
    "from geneticalgorithm2 import Crossover, Mutations, Selection # classes for specific mutation and crossover behavior\n",
    "from geneticalgorithm2 import plot_pop_scores # for plotting population scores, if u want"
   ]
  },
  {
   "cell_type": "code",
   "execution_count": 54,
   "metadata": {},
   "outputs": [],
   "source": [
    "# Load data into pandas DataFrame\n",
    "df = pd.read_parquet(\"dataset/scaled_train_data.parquet\")\n",
    "classes = df[\"class\"].unique()\n",
    "#hard move data, so it's positive thus cosine measurements clamped to [0,1]\n",
    "df.loc[:,df.columns != 'class'] -= df.loc[:,df.columns != 'class'].min()\n",
    "\n",
    "MO_list = [df[df[\"class\"] == c].mean(axis=0)[:-1].to_numpy() for c in classes ]"
   ]
  },
  {
   "cell_type": "code",
   "execution_count": 55,
   "metadata": {},
   "outputs": [
    {
     "name": "stdout",
     "output_type": "stream",
     "text": [
      "[(0.0, 70.16041088543572), (0.0, 33.6460679839578), (0.0, 25.729922725065958), (0.0, 5.7072001843979905), (0.0, 3.9578969066551313), (0.0, 3.832658975798279), (0.0, 19.11261695562245), (0.0, 18.889935273075448), (0.0, 22.53818626099313), (0.0, 17.984287663488836), (0.0, 30.648128049171866), (0.0, 37.36485453244188)]\n"
     ]
    }
   ],
   "source": [
    "#only allow values in the original value range\n",
    "#this is higly questionable\n",
    "boundaries = [(min,max) for min,max in zip(df.min()[:-1],df.max()[:-1])]"
   ]
  },
  {
   "cell_type": "code",
   "execution_count": 56,
   "metadata": {},
   "outputs": [],
   "source": [
    "#class 0 = sitting, all the others are opposing\n",
    "parameter_c = .4\n",
    "\n",
    "def cos_measure(s:np.ndarray,t:np.ndarray):\n",
    "    return np.dot(s,t)/(np.linalg.norm(s) *np.linalg.norm(t))\n",
    "\n",
    "\n",
    "def F(s:np.ndarray):\n",
    "    oppose_avg = 1 - (cos_measure(s,MO_list[1])+cos_measure(s,MO_list[2])+cos_measure(s,MO_list[3])+cos_measure(s,MO_list[4]))/4.\n",
    "    num = cos_measure(s,MO_list[0]) + parameter_c * oppose_avg\n",
    "    denom = 1. + parameter_c\n",
    "    return (num)/denom\n",
    "\n",
    "def costF(s:np.ndarray):\n",
    "    return -F(s)"
   ]
  },
  {
   "cell_type": "code",
   "execution_count": 57,
   "metadata": {},
   "outputs": [],
   "source": [
    "class Crossover(Crossover):\n",
    "    #override original uniform function with bias\n",
    "    @staticmethod\n",
    "    def uniform(bias:float = 0.5):\n",
    "        \n",
    "        def func(x, y):\n",
    "            ofs1, ofs2 = x.copy(),y.copy()\n",
    "        \n",
    "            ran = np.random.random(x.size) < bias\n",
    "            ofs1[ran] = y[ran]\n",
    "            ofs2[ran] = x[ran]\n",
    "              \n",
    "            return ofs1, ofs2\n",
    "        \n",
    "        return func\n",
    "    "
   ]
  },
  {
   "cell_type": "code",
   "execution_count": null,
   "metadata": {},
   "outputs": [],
   "source": [
    "test_matrice = [\n",
    "    {\"pop_size\":20,\"crossover_prob\":.6,\"mutation_prob\":0.},\n",
    "    {\"pop_size\":20,\"crossover_prob\":.6,\"mutation_prob\":0.01},\n",
    "    {\"pop_size\":20,\"crossover_prob\":.6,\"mutation_prob\":0.1},\n",
    "    {\"pop_size\":20,\"crossover_prob\":.9,\"mutation_prob\":0.01},\n",
    "    {\"pop_size\":20,\"crossover_prob\":.9,\"mutation_prob\":0.01},\n",
    "    {\"pop_size\":200,\"crossover_prob\":.6,\"mutation_prob\":0.},\n",
    "    {\"pop_size\":200,\"crossover_prob\":.6,\"mutation_prob\":0.01},\n",
    "    {\"pop_size\":200,\"crossover_prob\":.6,\"mutation_prob\":0.1},\n",
    "    {\"pop_size\":200,\"crossover_prob\":.9,\"mutation_prob\":0.01},\n",
    "    {\"pop_size\":200,\"crossover_prob\":.9,\"mutation_prob\":0.01},\n",
    "]"
   ]
  },
  {
   "cell_type": "code",
   "execution_count": 61,
   "metadata": {},
   "outputs": [],
   "source": [
    "for testcase in test_matrice:\n",
    "    GA_modell = ga(costF,\n",
    "                dimension=12,\n",
    "                    variable_type=('real'),\n",
    "                    variable_boundaries=boundaries,\n",
    "                    algorithm_parameters=AlgorithmParams(\n",
    "                        max_num_iteration = 1000,\n",
    "                        max_iteration_without_improv=20,\n",
    "                        population_size = 100,\n",
    "                        mutation_probability = 0.1,\n",
    "                        #elit_ratio = 0.01,\n",
    "                        parents_portion = 0.3,\n",
    "                        crossover_type = Crossover.mixed(alpha=.6),\n",
    "                        #crossover_type = Crossover.uniform(bias=.6),\n",
    "                        mutation_type = 'uniform_by_center',\n",
    "                        #selection_type = 'roulette',\n",
    "                        selection_type = Selection.tournament(tau=4),\n",
    "                        max_iteration_without_improv = None\n",
    "                        ))\n",
    "    # all of this parameters are default\n",
    "    result = GA_modell.run(no_plot=True)\n",
    "    testcase[\"result\"] = result"
   ]
  },
  {
   "cell_type": "code",
   "execution_count": 62,
   "metadata": {},
   "outputs": [
    {
     "name": "stdout",
     "output_type": "stream",
     "text": [
      "\n",
      "Set: Average time of function evaluating (secs): 0.0001316356658935547 (total = 0.013163566589355469)\n",
      "\n",
      "Best score before optimization: -0.7036619799908189\n",
      "____________________ 0.2% GA is running...2 gen from 1000...best value = -0.7067306087240361"
     ]
    },
    {
     "name": "stdout",
     "output_type": "stream",
     "text": [
      "                                                                                                                                                                                                        \n",
      " The best found solution:\n",
      " [25.39324365 13.11841298 15.03518911  2.85650065  2.31249112  3.10962995\n",
      "  9.94955579 10.50736197 11.25054934 15.64916738 19.84923834 27.72382822]\n",
      "\n",
      " Objective function:\n",
      " -0.7150139094342285\n",
      "\n",
      " Used generations: 1000\n",
      " Used time: 22.4 seconds\n"
     ]
    },
    {
     "data": {
      "image/png": "[encoded data removed]",
      "text/plain": [
       "<Figure size 640x480 with 1 Axes>"
      ]
     },
     "metadata": {},
     "output_type": "display_data"
    }
   ],
   "source": []
  },
  {
   "cell_type": "code",
   "execution_count": 60,
   "metadata": {},
   "outputs": [
    {
     "name": "stdout",
     "output_type": "stream",
     "text": [
      " best score: 0.7150060940109902\n",
      "cosine(0): 0.9994736318450007\n",
      "cosine(1): 0.996312884079207\n",
      "cosine(2): 0.9967019984403727\n",
      "cosine(3): 0.9961928295029607\n",
      "cosine(4): 0.9954432902736031\n"
     ]
    }
   ],
   "source": [
    "# best solution\n",
    "print(\" best score:\",F(result.variable))\n",
    "\n",
    "for i in range(5):\n",
    "    print(f\"cosine({i}):\",cos_measure(result.variable,MO_list[i]))\n"
   ]
  }
 ],
 "metadata": {
  "kernelspec": {
   "display_name": ".venv",
   "language": "python",
   "name": "python3"
  },
  "language_info": {
   "codemirror_mode": {
    "name": "ipython",
    "version": 3
   },
   "file_extension": ".py",
   "mimetype": "text/x-python",
   "name": "python",
   "nbconvert_exporter": "python",
   "pygments_lexer": "ipython3",
   "version": "3.10.7"
  },
  "orig_nbformat": 4
 },
 "nbformat": 4,
 "nbformat_minor": 2
}
