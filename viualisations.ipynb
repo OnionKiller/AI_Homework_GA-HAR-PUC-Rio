{
 "cells": [
  {
   "cell_type": "code",
   "execution_count": 1,
   "metadata": {},
   "outputs": [
    {
     "name": "stdout",
     "output_type": "stream",
     "text": [
      "Using matplotlib backend: <object object at 0x000002C4555D6E90>\n",
      "True\n",
      "Using matplotlib backend: TkAgg\n"
     ]
    }
   ],
   "source": [
    "import matplotlib.pyplot as plt\n",
    "from matplotlib import cm\n",
    "plt.ion()\n",
    "%matplotlib\n",
    "print(plt.isinteractive())\n",
    "%matplotlib\n",
    "import numpy as np"
   ]
  },
  {
   "cell_type": "code",
   "execution_count": 2,
   "metadata": {},
   "outputs": [],
   "source": [
    "plt.style.use('_mpl-gallery')\n",
    "\n",
    "# Make data\n",
    "parameter_c = .4\n",
    "\n",
    "X = np.arange(0, 1.1, 0.1)\n",
    "Y = np.arange(0, 1.1, 0.1)\n",
    "X, Y = np.meshgrid(X, Y)\n",
    "\n",
    "Z = parameter_c + (X - parameter_c*Y) /(1 + parameter_c)\n",
    "\n",
    "# Plot the surface\n",
    "fig, ax = plt.subplots(subplot_kw={\"projection\": \"3d\"},figsize=[6,6])\n",
    "ax.plot_surface(X,\n",
    "                Y,\n",
    "                Z, vmin=Z.min() * 2, cmap=cm.Blues)\n",
    "\n",
    "\n",
    "ax.set_xlabel(r'$cos(similarity)$')\n",
    "ax.set_ylabel(r'$cos(dissimilarity)$')\n",
    "plt.show()"
   ]
  }
 ],
 "metadata": {
  "kernelspec": {
   "display_name": ".venv",
   "language": "python",
   "name": "python3"
  },
  "language_info": {
   "codemirror_mode": {
    "name": "ipython",
    "version": 3
   },
   "file_extension": ".py",
   "mimetype": "text/x-python",
   "name": "python",
   "nbconvert_exporter": "python",
   "pygments_lexer": "ipython3",
   "version": "3.10.7"
  },
  "orig_nbformat": 4
 },
 "nbformat": 4,
 "nbformat_minor": 2
}
