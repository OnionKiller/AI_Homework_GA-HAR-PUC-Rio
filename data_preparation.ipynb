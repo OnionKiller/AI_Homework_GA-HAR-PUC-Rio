{
 "cells": [
  {
   "cell_type": "code",
   "execution_count": 12,
   "metadata": {},
   "outputs": [],
   "source": [
    "import numpy as np\n",
    "import pandas as pd\n",
    "from sklearn import pipeline\n",
    "from sklearn import preprocessing\n",
    "from ydata_profiling import ProfileReport"
   ]
  },
  {
   "cell_type": "code",
   "execution_count": 13,
   "metadata": {},
   "outputs": [
    {
     "name": "stderr",
     "output_type": "stream",
     "text": [
      "C:\\Users\\tomi\\AppData\\Local\\Temp\\ipykernel_21908\\3314996042.py:31: ParserWarning: Both a converter and dtype were specified for column how_tall_in_meters - only the converter will be used.\n",
      "  df = pd.read_csv(\n",
      "C:\\Users\\tomi\\AppData\\Local\\Temp\\ipykernel_21908\\3314996042.py:31: ParserWarning: Both a converter and dtype were specified for column body_mass_index - only the converter will be used.\n",
      "  df = pd.read_csv(\n",
      "C:\\Users\\tomi\\AppData\\Local\\Temp\\ipykernel_21908\\3314996042.py:31: ParserWarning: Both a converter and dtype were specified for column z4 - only the converter will be used.\n",
      "  df = pd.read_csv(\n"
     ]
    }
   ],
   "source": [
    "dtypes = {\n",
    "    \"user\": str,\n",
    "    \"gender\": str,\n",
    "    \"age\": np.int64,\n",
    "    \"how_tall_in_meters\": np.float64,\n",
    "    \"weight\": np.int64,\n",
    "    \"body_mass_index\": np.float64,\n",
    "    \"x1\": np.int64,\n",
    "    \"y1\": np.int64,\n",
    "    \"z1\": np.int64,\n",
    "    \"x2\": np.int64,\n",
    "    \"y2\": np.int64,\n",
    "    \"z2\": np.int64,\n",
    "    \"x3\": np.int64,\n",
    "    \"y3\": np.int64,\n",
    "    \"z3\": np.int64,\n",
    "    \"x4\": np.int64,\n",
    "    \"y4\": np.int64,\n",
    "    \"z4\": np.int64,\n",
    "    \"class\": str,\n",
    "}\n",
    "\n",
    "\n",
    "def errorproofZ4(x):\n",
    "    try:\n",
    "        return np.int64(x)\n",
    "    except ValueError:\n",
    "        return np.NaN\n",
    "\n",
    "\n",
    "df = pd.read_csv(\n",
    "    \"dataset/dataset-HAR-PUC-Rio.csv\",\n",
    "    sep=\";\",\n",
    "    dtype=dtypes,\n",
    "    converters={\n",
    "        \"how_tall_in_meters\": lambda x: np.float64(x.replace(\",\", \".\")),\n",
    "        \"body_mass_index\": lambda x: np.float64(x.replace(\",\", \".\")),\n",
    "        \"z4\": errorproofZ4,\n",
    "    },\n",
    ")\n",
    "\n",
    "profile = ProfileReport(\n",
    "    df[\n",
    "        [\n",
    "            \"x1\",\n",
    "            \"y1\",\n",
    "            \"z1\",\n",
    "            \"x2\",\n",
    "            \"y2\",\n",
    "            \"z2\",\n",
    "            \"x3\",\n",
    "            \"y3\",\n",
    "            \"z3\",\n",
    "            \"x4\",\n",
    "            \"y4\",\n",
    "            \"z4\",\n",
    "        ]\n",
    "    ],\n",
    "    title=\"HAR-PUC measurements profile\",\n",
    ")"
   ]
  },
  {
   "cell_type": "code",
   "execution_count": 14,
   "metadata": {},
   "outputs": [],
   "source": [
    "enableProfiling:bool = False"
   ]
  },
  {
   "cell_type": "code",
   "execution_count": 15,
   "metadata": {},
   "outputs": [],
   "source": [
    "if enableProfiling:\n",
    "    profile.to_widgets()"
   ]
  },
  {
   "cell_type": "code",
   "execution_count": 16,
   "metadata": {},
   "outputs": [],
   "source": [
    "# drop the only bad value\n",
    "df.dropna(inplace=True)"
   ]
  },
  {
   "cell_type": "code",
   "execution_count": 17,
   "metadata": {},
   "outputs": [],
   "source": [
    "if enableProfiling:\n",
    "    full_profile = ProfileReport(df, title=\"Full HAR-PUC profile\")\n",
    "    full_profile.to_widgets()\n",
    "    full_profile.to_file(\"documents/full_data_report.html\")"
   ]
  },
  {
   "attachments": {},
   "cell_type": "markdown",
   "metadata": {},
   "source": [
    "## Scaling\n",
    "It is clearly visible, that the data is from a few people.\n",
    "The scale of the variables is very different, but most of them are not very skewed, they mainly show a gaussian distribution, or gaussina mixture distributions.\n",
    "Some of the data seems to be truncated.\n",
    "## Standard Scaling \n",
    "To have all of the data in the same range the measured variables could be transformed to a standard value.\n",
    "Also the user values should be transformed to Standard range, as they are related to the scale of the measured variables. But due to the low number of users only one variable to represent them would be enough, so variables like gender or age or name could be easily dropped.\n",
    "\n",
    "## calss conversion\n",
    "Calsses should be converted to integer as well"
   ]
  },
  {
   "cell_type": "code",
   "execution_count": 18,
   "metadata": {},
   "outputs": [
    {
     "data": {
      "text/plain": [
       "Index(['user', 'gender', 'age', 'how_tall_in_meters', 'weight',\n",
       "       'body_mass_index', 'x1', 'y1', 'z1', 'x2', 'y2', 'z2', 'x3', 'y3', 'z3',\n",
       "       'x4', 'y4', 'z4', 'class'],\n",
       "      dtype='object')"
      ]
     },
     "execution_count": 18,
     "metadata": {},
     "output_type": "execute_result"
    }
   ],
   "source": [
    "df.columns"
   ]
  },
  {
   "cell_type": "code",
   "execution_count": 19,
   "metadata": {},
   "outputs": [
    {
     "data": {
      "text/plain": [
       "{'sitting': 0, 'sittingdown': 1, 'standing': 2, 'standingup': 3, 'walking': 4}"
      ]
     },
     "execution_count": 19,
     "metadata": {},
     "output_type": "execute_result"
    }
   ],
   "source": [
    "ids = {j: i for i, j in enumerate(df[\"class\"].unique())}\n",
    "ids"
   ]
  },
  {
   "cell_type": "code",
   "execution_count": 20,
   "metadata": {},
   "outputs": [],
   "source": [
    "cleaned = df.copy()\n",
    "#apply mapping\n",
    "cleaned[\"class\"] = df[\"class\"].apply(lambda x: ids[x])\n",
    "\n",
    "#only keep sensor parameters\n",
    "cleaned.drop([\"user\",\"gender\",\"age\",\"how_tall_in_meters\",\"weight\",\"body_mass_index\",], axis=1, inplace=True)"
   ]
  },
  {
   "cell_type": "code",
   "execution_count": 21,
   "metadata": {},
   "outputs": [],
   "source": [
    "cleaned.to_parquet(\"dataset/unscaled_train_data.parquet\")"
   ]
  },
  {
   "cell_type": "code",
   "execution_count": 22,
   "metadata": {},
   "outputs": [],
   "source": [
    "from sklearn.preprocessing import MinMaxScaler,StandardScaler\n",
    "\n",
    "scaled_cleaned = cleaned.copy()\n",
    "\n",
    "#scaler = MinMaxScaler(feature_range=(0,1))\n",
    "scaler = StandardScaler()\n",
    "value_columns = [\n",
    "    \"x1\",\n",
    "    \"y1\",\n",
    "    \"z1\",\n",
    "    \"x2\",\n",
    "    \"y2\",\n",
    "    \"z2\",\n",
    "    \"x3\",\n",
    "    \"y3\",\n",
    "    \"z3\",\n",
    "    \"x4\",\n",
    "    \"y4\",\n",
    "    \"z4\",\n",
    "]\n",
    "scaled_cleaned[value_columns] = scaler.fit_transform(cleaned[value_columns])\n",
    "\n",
    "scaled_cleaned.to_parquet(\"dataset/scaled_train_data.parquet\")\n"
   ]
  },
  {
   "cell_type": "code",
   "execution_count": 23,
   "metadata": {},
   "outputs": [],
   "source": [
    "#scaler = MinMaxScaler(feature_range=(0,1))\n",
    "scaler = MinMaxScaler()\n",
    "value_columns = [\n",
    "    \"x1\",\n",
    "    \"y1\",\n",
    "    \"z1\",\n",
    "    \"x2\",\n",
    "    \"y2\",\n",
    "    \"z2\",\n",
    "    \"x3\",\n",
    "    \"y3\",\n",
    "    \"z3\",\n",
    "    \"x4\",\n",
    "    \"y4\",\n",
    "    \"z4\",\n",
    "]\n",
    "scaled_cleaned[value_columns] = scaler.fit_transform(cleaned[value_columns])\n",
    "\n",
    "scaled_cleaned.to_parquet(\"dataset/minmaxscaled_train_data.parquet\")\n"
   ]
  }
 ],
 "metadata": {
  "kernelspec": {
   "display_name": ".venv",
   "language": "python",
   "name": "python3"
  },
  "language_info": {
   "codemirror_mode": {
    "name": "ipython",
    "version": 3
   },
   "file_extension": ".py",
   "mimetype": "text/x-python",
   "name": "python",
   "nbconvert_exporter": "python",
   "pygments_lexer": "ipython3",
   "version": "3.10.7"
  },
  "orig_nbformat": 4
 },
 "nbformat": 4,
 "nbformat_minor": 2
}
